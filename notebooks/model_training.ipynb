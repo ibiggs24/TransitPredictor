{
 "cells": [
  {
   "cell_type": "code",
   "execution_count": 1,
   "metadata": {},
   "outputs": [],
   "source": [
    "import sqlite3\n",
    "import pandas as pd\n",
    "from imblearn.over_sampling import SMOTE\n",
    "from sklearn.model_selection import train_test_split\n",
    "from sklearn.linear_model import LogisticRegression\n",
    "from sklearn.ensemble import RandomForestClassifier\n",
    "from sklearn.metrics import classification_report, confusion_matrix\n",
    "import matplotlib.pyplot as plt\n",
    "from xgboost import XGBClassifier"
   ]
  },
  {
   "cell_type": "code",
   "execution_count": 2,
   "metadata": {},
   "outputs": [],
   "source": [
    "# Load data\n",
    "conn = sqlite3.connect(\"../smart_transit.db\")\n",
    "df = pd.read_sql_query(\"SELECT * FROM labeled_with_weather\", conn)\n",
    "conn.close()\n",
    "\n",
    "# Clean up times\n",
    "df = df[df[\"arrival_time\"].str.match(r\"^\\d{2}:\\d{2}:\\d{2}$\", na=False)]\n",
    "df[\"hour\"] = df[\"arrival_time\"].str.slice(0, 2).astype(int)\n",
    "df = df[df[\"delayed\"].isin([0, 1])]\n",
    "\n",
    "# Sample down for memory\n",
    "df = df.sample(n=5000, random_state=42)\n",
    "\n",
    "# Numeric feature: stop_sequence\n",
    "df[\"stop_sequence\"] = pd.to_numeric(df[\"stop_sequence\"], errors=\"coerce\")\n",
    "\n",
    "# Simulate day of week (placeholder)\n",
    "df[\"day_of_week\"] = (df[\"hour\"] // 4) % 7  # Cycles through 0–6\n",
    "\n",
    "# One-hot encode weather condition\n",
    "df = pd.get_dummies(df, columns=[\"conditions\"], drop_first=True)\n",
    "\n",
    "# Limit stop_id to top 50 and one-hot encode\n",
    "top_stops = df[\"stop_id\"].value_counts().nlargest(50).index\n",
    "df = df[df[\"stop_id\"].isin(top_stops)]\n",
    "df = pd.get_dummies(df, columns=[\"stop_id\"], drop_first=True)\n",
    "\n",
    "# Define features and target\n",
    "drop_cols = [\n",
    "    \"arrival_time\", \"departure_time\", \"trip_id\", \"delayed\",\n",
    "    \"stop_headsign\", \"pickup_type\", \"shape_dist_traveled\",\n",
    "    \"icon\", \"timestamp\"\n",
    "]\n",
    "X = df.drop(columns=[col for col in drop_cols if col in df.columns])\n",
    "y = df[\"delayed\"]"
   ]
  },
  {
   "cell_type": "code",
   "execution_count": 3,
   "metadata": {},
   "outputs": [],
   "source": [
    "# Train/test split\n",
    "X_train, X_test, y_train, y_test = train_test_split(\n",
    "    X, y, test_size=0.2, stratify=y, random_state=42\n",
    ")\n",
    "\n",
    "# Apply SMOTE to balance training data\n",
    "smote = SMOTE(random_state=42)\n",
    "X_train_balanced, y_train_balanced = smote.fit_resample(X_train, y_train)"
   ]
  },
  {
   "cell_type": "code",
   "execution_count": null,
   "metadata": {},
   "outputs": [],
   "source": [
    "# Train Logistic Regression\n",
    "log_model = LogisticRegression(max_iter=1000, class_weight=\"balanced\")\n",
    "log_model.fit(X_train_balanced, y_train_balanced)\n",
    "y_log_pred = log_model.predict(X_test)\n",
    "\n",
    "print(\"Logistic Regression\")\n",
    "print(\"Confusion Matrix:\\n\", confusion_matrix(y_test, y_log_pred))\n",
    "print(\"\\nClassification Report:\\n\", classification_report(y_test, y_log_pred))\n"
   ]
  },
  {
   "cell_type": "code",
   "execution_count": null,
   "metadata": {},
   "outputs": [],
   "source": [
    "# Train Random Forest\n",
    "rf_model = RandomForestClassifier(n_estimators=100, class_weight=\"balanced\", random_state=42)\n",
    "rf_model.fit(X_train_balanced, y_train_balanced)\n",
    "y_rf_pred = rf_model.predict(X_test)\n",
    "\n",
    "print(\"\\nRandom Forest\")\n",
    "print(\"Confusion Matrix:\\n\", confusion_matrix(y_test, y_rf_pred))\n",
    "print(\"\\nClassification Report:\\n\", classification_report(y_test, y_rf_pred))"
   ]
  },
  {
   "cell_type": "code",
   "execution_count": 4,
   "metadata": {},
   "outputs": [
    {
     "name": "stdout",
     "output_type": "stream",
     "text": [
      "\n",
      "XGBoost\n",
      "Confusion Matrix:\n",
      " [[28  6]\n",
      " [ 8  2]]\n",
      "\n",
      "Classification Report:\n",
      "               precision    recall  f1-score   support\n",
      "\n",
      "           0       0.78      0.82      0.80        34\n",
      "           1       0.25      0.20      0.22        10\n",
      "\n",
      "    accuracy                           0.68        44\n",
      "   macro avg       0.51      0.51      0.51        44\n",
      "weighted avg       0.66      0.68      0.67        44\n",
      "\n"
     ]
    },
    {
     "name": "stderr",
     "output_type": "stream",
     "text": [
      "/Users/isaacbiggs/TransitPredictor/venv311/lib/python3.11/site-packages/xgboost/training.py:183: UserWarning: [18:47:39] WARNING: /Users/runner/work/xgboost/xgboost/src/learner.cc:738: \n",
      "Parameters: { \"use_label_encoder\" } are not used.\n",
      "\n",
      "  bst.update(dtrain, iteration=i, fobj=obj)\n"
     ]
    }
   ],
   "source": [
    "from xgboost import XGBClassifier\n",
    "\n",
    "# Train XGBoost\n",
    "xgb_model = XGBClassifier(use_label_encoder=False, eval_metric=\"logloss\", random_state=42)\n",
    "xgb_model.fit(X_train_balanced, y_train_balanced)\n",
    "y_xgb_pred = xgb_model.predict(X_test)\n",
    "\n",
    "print(\"\\nXGBoost\")\n",
    "print(\"Confusion Matrix:\\n\", confusion_matrix(y_test, y_xgb_pred))\n",
    "print(\"\\nClassification Report:\\n\", classification_report(y_test, y_xgb_pred))"
   ]
  }
 ],
 "metadata": {
  "kernelspec": {
   "display_name": "Python 3.11 (SmartTransit)",
   "language": "python",
   "name": "smarttransit311"
  },
  "language_info": {
   "codemirror_mode": {
    "name": "ipython",
    "version": 3
   },
   "file_extension": ".py",
   "mimetype": "text/x-python",
   "name": "python",
   "nbconvert_exporter": "python",
   "pygments_lexer": "ipython3",
   "version": "3.11.13"
  }
 },
 "nbformat": 4,
 "nbformat_minor": 2
}
